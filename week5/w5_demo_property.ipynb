{
 "cells": [
  {
   "cell_type": "code",
   "execution_count": 1,
   "metadata": {},
   "outputs": [],
   "source": [
    "class Item:\n",
    "    def __init__(self, id, name, price):\n",
    "        self.__id = id\n",
    "        self.__name = name\n",
    "        self.__price = price\n",
    "    \n",
    "    def get_name(self):\n",
    "        return self.__name\n",
    "    \n",
    "    def set_name(self, name):\n",
    "        if name == '':\n",
    "            self.__name = 'No name'\n",
    "            return\n",
    "        self.__name = name\n",
    "\n",
    "    @property\n",
    "    def price(self):\n",
    "        return self.__price\n",
    "    \n",
    "    @price.setter\n",
    "    def price(self, value):\n",
    "        if value < 0:\n",
    "            self.__price = 0\n",
    "            return\n",
    "        self.__price = value"
   ]
  },
  {
   "cell_type": "code",
   "execution_count": 3,
   "metadata": {},
   "outputs": [
    {
     "name": "stdout",
     "output_type": "stream",
     "text": [
      "Car\n",
      "100\n",
      "Toyota Car\n",
      "2000\n"
     ]
    }
   ],
   "source": [
    "car = Item(1, 'Car', 100)\n",
    "print(car.get_name())   # use get_name method\n",
    "print(car.price)        # use price property\n",
    "car.set_name('Toyota Car')  # call set_name\n",
    "car.price = 2000            # call property price.setter\n",
    "print(car.get_name())   # use get_name method\n",
    "print(car.price)        # use price property"
   ]
  }
 ],
 "metadata": {
  "kernelspec": {
   "display_name": "Python 3",
   "language": "python",
   "name": "python3"
  },
  "language_info": {
   "codemirror_mode": {
    "name": "ipython",
    "version": 3
   },
   "file_extension": ".py",
   "mimetype": "text/x-python",
   "name": "python",
   "nbconvert_exporter": "python",
   "pygments_lexer": "ipython3",
   "version": "3.12.4"
  }
 },
 "nbformat": 4,
 "nbformat_minor": 2
}
