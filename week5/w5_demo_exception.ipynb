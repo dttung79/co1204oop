{
 "cells": [
  {
   "cell_type": "code",
   "execution_count": 7,
   "metadata": {},
   "outputs": [
    {
     "name": "stdout",
     "output_type": "stream",
     "text": [
      "3.0\n"
     ]
    }
   ],
   "source": [
    "try:\n",
    "    a = int(input('Enter a: '))\n",
    "    b = int(input('Enter b: '))\n",
    "    c = a / b\n",
    "    print(c)\n",
    "except ValueError:\n",
    "    print('Invalid input. Must enter number!')\n",
    "except ZeroDivisionError:\n",
    "    print('Cannot divide by zero!')\n"
   ]
  },
  {
   "cell_type": "code",
   "execution_count": 8,
   "metadata": {},
   "outputs": [],
   "source": [
    "class Example:\n",
    "    def __init__(self, name, price):\n",
    "        if name == '':  # handle the error\n",
    "            print('Name cannot be empty')\n",
    "            self.__name = 'No name'\n",
    "        else:\n",
    "            self.__name = name\n",
    "        \n",
    "        if price < 0:   # raise error\n",
    "            raise ValueError('Price cannot be negative!')\n",
    "        \n",
    "        self.__price = price"
   ]
  },
  {
   "cell_type": "code",
   "execution_count": 10,
   "metadata": {},
   "outputs": [
    {
     "name": "stdout",
     "output_type": "stream",
     "text": [
      "Name cannot be empty\n"
     ]
    }
   ],
   "source": [
    "e1 = Example('', 100) # ok, name will be 'No name'"
   ]
  },
  {
   "cell_type": "code",
   "execution_count": 12,
   "metadata": {},
   "outputs": [
    {
     "name": "stdout",
     "output_type": "stream",
     "text": [
      "Price cannot be negative!\n"
     ]
    }
   ],
   "source": [
    "try:\n",
    "    e2 = Example('A', -100) # not ok\n",
    "except ValueError as err:\n",
    "    print(err)"
   ]
  }
 ],
 "metadata": {
  "kernelspec": {
   "display_name": "Python 3",
   "language": "python",
   "name": "python3"
  },
  "language_info": {
   "codemirror_mode": {
    "name": "ipython",
    "version": 3
   },
   "file_extension": ".py",
   "mimetype": "text/x-python",
   "name": "python",
   "nbconvert_exporter": "python",
   "pygments_lexer": "ipython3",
   "version": "3.12.4"
  }
 },
 "nbformat": 4,
 "nbformat_minor": 2
}
