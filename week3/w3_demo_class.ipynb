{
 "cells": [
  {
   "cell_type": "code",
   "execution_count": 1,
   "metadata": {},
   "outputs": [],
   "source": [
    "class Pet:\n",
    "    # init method: initiates attributes of an object\n",
    "    # parameters: name, owner and age will be set to corresponding attributes\n",
    "    # parameter self refers to the object itself\n",
    "    def __init__(self, name, owner, age):\n",
    "        self.name = name\n",
    "        self.owner = owner\n",
    "        self.age = age\n",
    "    \n",
    "    # method show: print out attributes' values of an object\n",
    "    # parameter: self refers to the object itself\n",
    "    def show(self):\n",
    "        print(f'Pet name: {self.name}, owner: {self.owner}, age: {self.age}')"
   ]
  },
  {
   "cell_type": "code",
   "execution_count": 2,
   "metadata": {},
   "outputs": [
    {
     "name": "stdout",
     "output_type": "stream",
     "text": [
      "Pet name: Tony, owner: John, age: 4\n",
      "Pet name: Ki, owner: John, age: 10\n"
     ]
    }
   ],
   "source": [
    "# Create some objects of class Pet\n",
    "tony = Pet('Tony', 'John', 4)\n",
    "ki = Pet('Ki', 'John', 10)\n",
    "\n",
    "# Tell Pet objects to do something\n",
    "tony.show()\n",
    "ki.show()"
   ]
  },
  {
   "cell_type": "code",
   "execution_count": 3,
   "metadata": {},
   "outputs": [
    {
     "name": "stdout",
     "output_type": "stream",
     "text": [
      "Tony age: 4\n",
      "Ki owner: John\n"
     ]
    }
   ],
   "source": [
    "# Access attribute of object (reading)\n",
    "print(f'Tony age: {tony.age}')\n",
    "print(f'Ki owner: {ki.owner}')"
   ]
  },
  {
   "cell_type": "code",
   "execution_count": 4,
   "metadata": {},
   "outputs": [
    {
     "name": "stdout",
     "output_type": "stream",
     "text": [
      "Pet name: Tony, owner: John, age: 10\n",
      "Pet name: Ki, owner: Mary, age: 10\n"
     ]
    }
   ],
   "source": [
    "# Access attribute of object (writing)\n",
    "tony.age = 10\n",
    "ki.owner = 'Mary'\n",
    "tony.show()\n",
    "ki.show()"
   ]
  },
  {
   "cell_type": "code",
   "execution_count": 5,
   "metadata": {},
   "outputs": [],
   "source": [
    "import datetime\n",
    "class Watch:\n",
    "    def __init__(self, brand, model, price):\n",
    "        self.brand = brand\n",
    "        self.model = model\n",
    "        self.price = price\n",
    "    \n",
    "    def show(self):\n",
    "        print(f'Brand: {self.brand}, model: {self.model}, price: {self.price}')\n",
    "\n",
    "    def time(self):\n",
    "        print(datetime.datetime.now())"
   ]
  },
  {
   "cell_type": "code",
   "execution_count": 6,
   "metadata": {},
   "outputs": [
    {
     "name": "stdout",
     "output_type": "stream",
     "text": [
      "Brand: Garmin, model: Forerunner 945, price: 600\n",
      "2024-05-28 08:58:30.191150\n"
     ]
    }
   ],
   "source": [
    "sport_watch = Watch('Garmin', 'Forerunner 945', 600)\n",
    "sport_watch.show()\n",
    "sport_watch.time()"
   ]
  }
 ],
 "metadata": {
  "kernelspec": {
   "display_name": "Python 3",
   "language": "python",
   "name": "python3"
  },
  "language_info": {
   "codemirror_mode": {
    "name": "ipython",
    "version": 3
   },
   "file_extension": ".py",
   "mimetype": "text/x-python",
   "name": "python",
   "nbconvert_exporter": "python",
   "pygments_lexer": "ipython3",
   "version": "3.9.12"
  }
 },
 "nbformat": 4,
 "nbformat_minor": 2
}
