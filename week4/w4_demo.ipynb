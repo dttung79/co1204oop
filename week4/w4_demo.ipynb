{
 "cells": [
  {
   "cell_type": "markdown",
   "metadata": {},
   "source": [
    "Today topics:\n",
    "- scope of variables in class\n",
    "- protection level (private, public)\n",
    "- access type (reading, writing)\n",
    "- get/set methods"
   ]
  },
  {
   "cell_type": "code",
   "execution_count": 20,
   "metadata": {},
   "outputs": [],
   "source": [
    "class Pet:\n",
    "    # init method: initiates attributes of an object\n",
    "    # parameters: name, owner and age will be set to corresponding attributes\n",
    "    # parameter self refers to the object itself\n",
    "    def __init__(self, name, owner, age):\n",
    "        self.name = name        # name is public\n",
    "        self.__owner = owner    # __owner is private \n",
    "        self.age = age          # age is public\n",
    "    \n",
    "    # method show: print out attributes' values of an object\n",
    "    # parameter: self refers to the object itself\n",
    "    def show(self):\n",
    "        print(f'Pet name: {self.name}, owner: {self.__owner}, age: {self.age}')\n",
    "    \n",
    "    # providing writing access\n",
    "    def change_owner(self, owner):\n",
    "        if owner == '':\n",
    "            print('Owner cannot be empty. Change to default name.')\n",
    "            self.__owner = 'No owner'\n",
    "            return\n",
    "        \n",
    "        self.__owner = owner\n",
    "    \n",
    "    # providing reading access\n",
    "    def get_owner(self):\n",
    "        return self.__owner"
   ]
  },
  {
   "cell_type": "code",
   "execution_count": 21,
   "metadata": {},
   "outputs": [
    {
     "name": "stdout",
     "output_type": "stream",
     "text": [
      "Pet name: Ki, owner: John, age: 2\n",
      "Owner cannot be empty. Change to default name.\n",
      "Pet name: Haah, owner: No owner, age: 2\n",
      "Pet name: Haah, owner: Paul, age: 2\n"
     ]
    }
   ],
   "source": [
    "dog = Pet('Ki', 'John', 2)  # create a Pet object\n",
    "dog.show()                  # tell dog to do something\n",
    "dog.name = 'Haah'          # access dog's attribute to rewrite\n",
    "dog.change_owner('')\n",
    "dog.show()\n",
    "dog.change_owner('Paul')\n",
    "dog.show()"
   ]
  },
  {
   "cell_type": "code",
   "execution_count": 22,
   "metadata": {},
   "outputs": [
    {
     "name": "stdout",
     "output_type": "stream",
     "text": [
      "Haah\n",
      "Paul\n"
     ]
    }
   ],
   "source": [
    "print(dog.name)\n",
    "# print(dog.__owner) # error, no access\n",
    "print(dog.get_owner())"
   ]
  },
  {
   "cell_type": "code",
   "execution_count": 23,
   "metadata": {},
   "outputs": [],
   "source": [
    "class Movie:\n",
    "    def __init__(self, name, actors, rate):\n",
    "        self.__name = name\n",
    "        self.__actors = actors\n",
    "        self.__rate = rate\n",
    "    \n",
    "    def get_name(self):\n",
    "        return self.__name\n",
    "    \n",
    "    def set_name(self, name):\n",
    "        if name == '':\n",
    "            print('Name cannot be empty! Change to default name')\n",
    "            self.__name = 'No name'\n",
    "            return\n",
    "        \n",
    "        self.__name = name\n",
    "\n",
    "    def get_actors(self):\n",
    "        return self.__actors\n",
    "\n",
    "    def set_actors(self, actors):\n",
    "        if actors == '':\n",
    "            print('Actors cannot be empty!')\n",
    "            self.__actors = 'No actors'\n",
    "            return\n",
    "        \n",
    "        self.__actors = actors\n",
    "    \n",
    "    def get_rate(self):\n",
    "        return self.__rate\n",
    "    \n",
    "    def set_rate(self, rate):\n",
    "        if rate > 5 or rate < 0:\n",
    "            print('Rate must be in ranage [0, 5]')\n",
    "            self.__rate = 0\n",
    "            return \n",
    "        \n",
    "        self.__rate = rate\n",
    "    \n",
    "    def show(self):\n",
    "        print(f'Movie: {self.__name}')\n",
    "        print(f'List of actors: {self.__actors}')\n",
    "        print(f'Rating: {self.__rate}')\n"
   ]
  },
  {
   "cell_type": "code",
   "execution_count": 27,
   "metadata": {},
   "outputs": [
    {
     "name": "stdout",
     "output_type": "stream",
     "text": [
      "Movie: MI 4\n",
      "List of actors: Tom Cruise\n",
      "Rating: 5.0\n",
      "Actors cannot be empty!\n",
      "Movie: MI 4\n",
      "List of actors: No actors\n",
      "Rating: 5.0\n",
      "Rate must be in ranage [0, 5]\n",
      "Movie: MI 4\n",
      "List of actors: No actors\n",
      "Rating: 0\n",
      "Movie: MI 4\n",
      "List of actors: No actors\n",
      "Rating: 3\n"
     ]
    }
   ],
   "source": [
    "mv = Movie('MI 4', 'Tom Cruise', 5.0)\n",
    "mv.show()\n",
    "mv.set_actors('')\n",
    "mv.show()\n",
    "mv.set_rate(10)\n",
    "mv.show()\n",
    "mv.set_rate(3)\n",
    "mv.show()"
   ]
  }
 ],
 "metadata": {
  "kernelspec": {
   "display_name": "Python 3",
   "language": "python",
   "name": "python3"
  },
  "language_info": {
   "codemirror_mode": {
    "name": "ipython",
    "version": 3
   },
   "file_extension": ".py",
   "mimetype": "text/x-python",
   "name": "python",
   "nbconvert_exporter": "python",
   "pygments_lexer": "ipython3",
   "version": "3.9.12"
  }
 },
 "nbformat": 4,
 "nbformat_minor": 2
}
