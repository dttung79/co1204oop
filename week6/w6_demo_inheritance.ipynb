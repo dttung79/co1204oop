{
 "cells": [
  {
   "cell_type": "code",
   "execution_count": 5,
   "metadata": {},
   "outputs": [],
   "source": [
    "# Example 1: B inherits A which has value attribute public\n",
    "class A:\n",
    "    def __init__(self, value=0):\n",
    "        self.value = value\n",
    "    \n",
    "    def show(self):\n",
    "        print(f'Value of A object:', self.value)"
   ]
  },
  {
   "cell_type": "code",
   "execution_count": null,
   "metadata": {},
   "outputs": [],
   "source": [
    "a1 = A(10)\n",
    "a1.show()\n",
    "\n",
    "a2 = A() # default value = 0\n",
    "a2.show()"
   ]
  },
  {
   "cell_type": "code",
   "execution_count": 12,
   "metadata": {},
   "outputs": [],
   "source": [
    "class B(A): # inherit from A\n",
    "    def __init__(self, value=0):\n",
    "        super().__init__(value)     # call the constructor of the parent class"
   ]
  },
  {
   "cell_type": "code",
   "execution_count": null,
   "metadata": {},
   "outputs": [],
   "source": [
    "b1 = B()\n",
    "b1.show()   # call the show method of the parent class\n",
    "print(b1.value) # access the value of the parent class"
   ]
  },
  {
   "cell_type": "code",
   "execution_count": 20,
   "metadata": {},
   "outputs": [],
   "source": [
    "# Example 2: B inherits A which has value attribute private\n",
    "class A:\n",
    "    def __init__(self, value=0):\n",
    "        self.__value = value\n",
    "    \n",
    "    def show(self):\n",
    "        print(f'Value of A object:', self.__value)\n",
    "\n",
    "class B(A):\n",
    "    def __init__(self, value=0):\n",
    "        super().__init__(value)\n",
    "\n",
    "    def new_show(self):\n",
    "        print(f'Value of B object:', self.__value) # error: because __value is private"
   ]
  },
  {
   "cell_type": "code",
   "execution_count": 21,
   "metadata": {},
   "outputs": [
    {
     "name": "stdout",
     "output_type": "stream",
     "text": [
      "Value of A object: 10\n"
     ]
    },
    {
     "ename": "AttributeError",
     "evalue": "'B' object has no attribute '_B__value'",
     "output_type": "error",
     "traceback": [
      "\u001b[0;31m---------------------------------------------------------------------------\u001b[0m",
      "\u001b[0;31mAttributeError\u001b[0m                            Traceback (most recent call last)",
      "Cell \u001b[0;32mIn[21], line 4\u001b[0m\n\u001b[1;32m      2\u001b[0m a\u001b[38;5;241m.\u001b[39mshow()\n\u001b[1;32m      3\u001b[0m b \u001b[38;5;241m=\u001b[39m B(\u001b[38;5;241m20\u001b[39m)\n\u001b[0;32m----> 4\u001b[0m \u001b[43mb\u001b[49m\u001b[38;5;241;43m.\u001b[39;49m\u001b[43mnew_show\u001b[49m\u001b[43m(\u001b[49m\u001b[43m)\u001b[49m\n",
      "Cell \u001b[0;32mIn[20], line 13\u001b[0m, in \u001b[0;36mB.new_show\u001b[0;34m(self)\u001b[0m\n\u001b[1;32m     12\u001b[0m \u001b[38;5;28;01mdef\u001b[39;00m \u001b[38;5;21mnew_show\u001b[39m(\u001b[38;5;28mself\u001b[39m):\n\u001b[0;32m---> 13\u001b[0m     \u001b[38;5;28mprint\u001b[39m(\u001b[38;5;124mf\u001b[39m\u001b[38;5;124m'\u001b[39m\u001b[38;5;124mValue of B object:\u001b[39m\u001b[38;5;124m'\u001b[39m, \u001b[38;5;28;43mself\u001b[39;49m\u001b[38;5;241;43m.\u001b[39;49m\u001b[43m__value\u001b[49m)\n",
      "\u001b[0;31mAttributeError\u001b[0m: 'B' object has no attribute '_B__value'"
     ]
    }
   ],
   "source": [
    "a = A(10)\n",
    "a.show()\n",
    "b = B(20)\n",
    "b.new_show()    # error: because __value is private"
   ]
  },
  {
   "cell_type": "code",
   "execution_count": 22,
   "metadata": {},
   "outputs": [],
   "source": [
    "# Example 3: B inherits A which has value attribute protected\n",
    "class A:\n",
    "    def __init__(self, value=0):\n",
    "        self._value = value\n",
    "    \n",
    "    def show(self):\n",
    "        print(f'Value of A object:', self._value)\n",
    "\n",
    "class B(A):\n",
    "    def __init__(self, value=0):\n",
    "        super().__init__(value)\n",
    "\n",
    "    def new_show(self):\n",
    "        print(f'Value of B object:', self._value) # not error: because _value is protected"
   ]
  },
  {
   "cell_type": "code",
   "execution_count": 24,
   "metadata": {},
   "outputs": [
    {
     "name": "stdout",
     "output_type": "stream",
     "text": [
      "Value of A object: 20\n",
      "Value of B object: 20\n",
      "20\n"
     ]
    }
   ],
   "source": [
    "b = B(20)\n",
    "b.show()\n",
    "b.new_show()    # not error: because _value is protected\n",
    "print(b._value) # not error because Python is not strict about protected (Java/C# will show error)"
   ]
  },
  {
   "cell_type": "code",
   "execution_count": 31,
   "metadata": {},
   "outputs": [],
   "source": [
    "class Pet:\n",
    "    def __init__(self, name):\n",
    "        self._name = name\n",
    "\n",
    "    def show(self):\n",
    "        print(f'I am {self._name}')\n",
    "    \n",
    "    # override the __str__ method of the default parent class which is called when we print the object\n",
    "    def __str__(self):\n",
    "        return f'I am {self._name}'\n",
    "\n",
    "class Dog(Pet):\n",
    "    def __init__(self, name, kind):\n",
    "        super().__init__(name)  # call the constructor of the parent class to set the name\n",
    "        self._kind = kind       # set the kind itself\n",
    "    # override the show method of the parent class\n",
    "    def show(self):\n",
    "        super().show()  # call the show method of the parent class\n",
    "        print(f'I am a {self._kind}')"
   ]
  },
  {
   "cell_type": "code",
   "execution_count": 32,
   "metadata": {},
   "outputs": [
    {
     "name": "stdout",
     "output_type": "stream",
     "text": [
      "I am Tom\n",
      "I am Tom\n",
      "I am Tommy\n",
      "I am a Bulldog\n",
      "I am Tommy\n"
     ]
    }
   ],
   "source": [
    "p = Pet('Tom')\n",
    "print(p)    # call the __str__ method of Pet class\n",
    "p.show()    # show method of Pet class\n",
    "d = Dog('Tommy', 'Bulldog')\n",
    "d.show()    # show method of Dog class, it will call the show method of Pet class\n",
    "print(d)    # call the __str__ method of Pet class because Dog class does not have __str__ method"
   ]
  }
 ],
 "metadata": {
  "kernelspec": {
   "display_name": "Python 3",
   "language": "python",
   "name": "python3"
  },
  "language_info": {
   "codemirror_mode": {
    "name": "ipython",
    "version": 3
   },
   "file_extension": ".py",
   "mimetype": "text/x-python",
   "name": "python",
   "nbconvert_exporter": "python",
   "pygments_lexer": "ipython3",
   "version": "3.12.4"
  }
 },
 "nbformat": 4,
 "nbformat_minor": 2
}
