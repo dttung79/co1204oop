{
 "cells": [
  {
   "cell_type": "code",
   "execution_count": 1,
   "metadata": {},
   "outputs": [],
   "source": [
    "# create an abstract class with abstract methods\n",
    "from abc import ABC, abstractmethod\n",
    "\n",
    "# inherit a class from ABC to make it an abstract class\n",
    "class MyAbstractClass(ABC):\n",
    "    def __init__(self):\n",
    "        super().__init__()\n",
    "        self.some_thing = 0\n",
    "    # decorator to make a method abstract\n",
    "    @abstractmethod\n",
    "    def my_abstract_method(self):\n",
    "        pass    # pass is a null operation, it does nothing\n",
    "\n",
    "    def normal_method(self):\n",
    "        print('Some thing is:', self.some_thing)"
   ]
  },
  {
   "cell_type": "code",
   "execution_count": null,
   "metadata": {},
   "outputs": [],
   "source": [
    "# try to create an object of an abstract class\n",
    "a = MyAbstractClass()    # TypeError: Can't instantiate abstract class"
   ]
  },
  {
   "cell_type": "code",
   "execution_count": 3,
   "metadata": {},
   "outputs": [],
   "source": [
    "class A(MyAbstractClass):\n",
    "    def __init__(self):\n",
    "        super().__init__()\n",
    "        self.other_thing = 'hello'\n",
    "\n",
    "class B(MyAbstractClass):\n",
    "    def __init__(self):\n",
    "        super().__init__()\n",
    "        self.nothing = 'world'\n",
    "\n",
    "    # override the abstract method\n",
    "    def my_abstract_method(self):\n",
    "        print('Abstract method is overridden in B')"
   ]
  },
  {
   "cell_type": "code",
   "execution_count": null,
   "metadata": {},
   "outputs": [],
   "source": [
    "a = A() # Error because A is still abstract since it doesn't override the abstract method"
   ]
  },
  {
   "cell_type": "code",
   "execution_count": 5,
   "metadata": {},
   "outputs": [
    {
     "name": "stdout",
     "output_type": "stream",
     "text": [
      "Abstract method is overridden in B\n",
      "Some thing is: 0\n"
     ]
    }
   ],
   "source": [
    "b = B() # No error because B overrides the abstract method\n",
    "b.my_abstract_method()\n",
    "b.normal_method()"
   ]
  }
 ],
 "metadata": {
  "kernelspec": {
   "display_name": "Python 3",
   "language": "python",
   "name": "python3"
  },
  "language_info": {
   "codemirror_mode": {
    "name": "ipython",
    "version": 3
   },
   "file_extension": ".py",
   "mimetype": "text/x-python",
   "name": "python",
   "nbconvert_exporter": "python",
   "pygments_lexer": "ipython3",
   "version": "3.12.4"
  }
 },
 "nbformat": 4,
 "nbformat_minor": 2
}
