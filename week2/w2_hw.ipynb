{
 "cells": [
  {
   "cell_type": "code",
   "execution_count": 6,
   "metadata": {},
   "outputs": [
    {
     "name": "stdout",
     "output_type": "stream",
     "text": [
      "[-94, -93, -52, -30, -26, -24, -18, -10, -5, 7, 8, 9, 32, 82, 94]\n"
     ]
    }
   ],
   "source": [
    "import random as rd \n",
    "def greater(a, b):\n",
    "    return a > b\n",
    "\n",
    "def my_sort(items, compare=greater):\n",
    "    for i in range(len(items)-1):\n",
    "        for j in range(i+1, len(items)):\n",
    "            if compare(items[i], items[j]):\n",
    "                items[i], items[j] = items[j], items[i]\n",
    "    return items\n",
    "\n",
    "numbers = rd.sample(range(-100, 100), 15)\n",
    "my_sort(numbers)    # default sort is ascending, using greater function\n",
    "print(numbers)"
   ]
  },
  {
   "cell_type": "code",
   "execution_count": 19,
   "metadata": {},
   "outputs": [
    {
     "name": "stdout",
     "output_type": "stream",
     "text": [
      "[94, 82, 32, 9, 8, 7, -5, -10, -18, -24, -26, -30, -52, -93, -94]\n",
      "[94, -94, -93, 82, -52, 32, -30, -26, -24, -18, -10, 9, 8, 7, -5]\n",
      "[-30, -10, 32, 82, -52, -93, 94, -24, -94, -5, -26, 7, -18, 8, 9]\n",
      "[9, 8, -18, 7, -26, -5, 94, -24, -94, -93, 82, -52, 32, -10, -30]\n",
      "Nguyen Van An\n",
      "Nguyen Van Binh\n",
      "Le Trung Binh\n",
      "Le Duc Hoa\n",
      "Ho Thu Hoai\n",
      "Do Thi Lan\n",
      "Nguyen Thi Mai\n",
      "Hoang Mai\n",
      "Do Thi Lan\n",
      "Ho Thu Hoai\n",
      "Hoang Mai\n",
      "Le Duc Hoa\n",
      "Le Trung Binh\n",
      "Nguyen Van Binh\n",
      "Nguyen Thi Mai\n",
      "Nguyen Van An\n",
      "----\n",
      "Ho Thu Hoai\n",
      "Nguyen Thi Mai\n",
      "Le Duc Hoa\n",
      "Nguyen Van Binh\n",
      "Hoang Mai\n",
      "Nguyen Van An\n",
      "Le Trung Binh\n",
      "Do Thi Lan\n"
     ]
    }
   ],
   "source": [
    "# Do all the task bellow by using lambda function\n",
    "\n",
    "# Sort numbers descending \n",
    "my_sort(numbers, lambda a, b: a < b)\n",
    "print(numbers)\n",
    "# Sort numbers ascending by absolute value\n",
    "def abs(a):\n",
    "    if a < 0: return -a\n",
    "    return a\n",
    "# Sort numbers descending by absolute value\n",
    "my_sort(numbers, lambda a, b: abs(a) < abs(b))\n",
    "print(numbers)\n",
    "# Sort numbers ascending by the last digit\n",
    "my_sort(numbers, lambda a, b: abs(a) % 10 > abs(b) % 10)\n",
    "print(numbers)\n",
    "# Sort numbers decending by the last digit\n",
    "my_sort(numbers, lambda a, b: abs(a) % 10 < abs(b) % 10)\n",
    "print(numbers)\n",
    "\n",
    "names = ['Nguyen Van Binh', 'Nguyen Van An', 'Le Trung Binh', 'Le Duc Hoa',\n",
    "         'Hoang Mai', 'Ho Thu Hoai', 'Nguyen Thi Mai', 'Do Thi Lan']\n",
    "# Sort names by last name then first name (Vietnamesse name)\n",
    "my_sort(names, lambda a, b: a.split()[-1] > b.split()[-1])\n",
    "for name in names:\n",
    "    print(name)\n",
    "my_sort(names, lambda a, b: a.split()[0] > b.split()[0])\n",
    "for name in names:\n",
    "    print(name)\n",
    "\n",
    "vowels = 'aeiou'\n",
    "# Sort names by number of vowels (aeiou) in name\n",
    "my_sort(names, lambda a, b: len([c for c in a.lower() if c in vowels]) < len([c for c in b.lower() if c in vowels]))\n",
    "print('----')\n",
    "for name in names:\n",
    "    print(name)"
   ]
  }
 ],
 "metadata": {
  "kernelspec": {
   "display_name": "Python 3",
   "language": "python",
   "name": "python3"
  },
  "language_info": {
   "codemirror_mode": {
    "name": "ipython",
    "version": 3
   },
   "file_extension": ".py",
   "mimetype": "text/x-python",
   "name": "python",
   "nbconvert_exporter": "python",
   "pygments_lexer": "ipython3",
   "version": "3.9.12"
  },
  "orig_nbformat": 4
 },
 "nbformat": 4,
 "nbformat_minor": 2
}
