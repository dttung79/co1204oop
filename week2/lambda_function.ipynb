{
 "cells": [
  {
   "cell_type": "code",
   "execution_count": 1,
   "metadata": {},
   "outputs": [],
   "source": [
    "def greater(a, b):\n",
    "    return a > b"
   ]
  },
  {
   "cell_type": "code",
   "execution_count": 3,
   "metadata": {},
   "outputs": [
    {
     "name": "stdout",
     "output_type": "stream",
     "text": [
      "False\n",
      "True\n"
     ]
    }
   ],
   "source": [
    "print(greater(4, 5))\n",
    "print(greater(100, 1))"
   ]
  },
  {
   "cell_type": "code",
   "execution_count": 5,
   "metadata": {},
   "outputs": [
    {
     "name": "stdout",
     "output_type": "stream",
     "text": [
      "False\n",
      "True\n"
     ]
    }
   ],
   "source": [
    "greater = lambda a, b: a > b\n",
    "print(greater(4, 5))\n",
    "print(greater(100, 1))"
   ]
  },
  {
   "cell_type": "code",
   "execution_count": 10,
   "metadata": {},
   "outputs": [],
   "source": [
    "# superior find min by default\n",
    "def superior(items, comparator=lambda a, b: a > b):\n",
    "    sup = items[0]\n",
    "    for i in range(len(items)):\n",
    "        if comparator(sup, items[i]):\n",
    "            sup = items[i]\n",
    "    return sup"
   ]
  },
  {
   "cell_type": "code",
   "execution_count": 13,
   "metadata": {},
   "outputs": [
    {
     "name": "stdout",
     "output_type": "stream",
     "text": [
      "[37, 31, 46, 85, 71, 55, 66, 33, 90, 81]\n"
     ]
    }
   ],
   "source": [
    "import random as rd\n",
    "a = [rd.randint(10, 100) for i in range(10)]\n",
    "print(a)"
   ]
  },
  {
   "cell_type": "code",
   "execution_count": 15,
   "metadata": {},
   "outputs": [
    {
     "name": "stdout",
     "output_type": "stream",
     "text": [
      "Min = 31\n",
      "Max = 90\n",
      "Min digit = 90\n",
      "Max digit = 37\n"
     ]
    }
   ],
   "source": [
    "print('Min =', superior(a))\n",
    "print('Max =', superior(a, lambda a, b: a < b))\n",
    "print('Min digit =', superior(a, lambda a, b: a%10 > b%10))\n",
    "print('Max digit =', superior(a, lambda a, b: a%10 < b%10))"
   ]
  },
  {
   "cell_type": "code",
   "execution_count": 17,
   "metadata": {},
   "outputs": [
    {
     "name": "stdout",
     "output_type": "stream",
     "text": [
      "Min = Adam Levigne\n",
      "Max = Mike Tyson\n"
     ]
    }
   ],
   "source": [
    "names = ['Mike Tyson', 'Barrack Obama', 'John Lennon', 'Adam Levigne']\n",
    "print('Min =', superior(names))\n",
    "print('Max =', superior(names, lambda a, b: a < b))"
   ]
  },
  {
   "cell_type": "code",
   "execution_count": 18,
   "metadata": {},
   "outputs": [
    {
     "name": "stdout",
     "output_type": "stream",
     "text": [
      "Longest name: Barrack Obama\n",
      "Shortest name: Mike Tyson\n"
     ]
    }
   ],
   "source": [
    "print('Longest name:', superior(names, lambda a, b: len(a) < len(b)))\n",
    "print('Shortest name:', superior(names, lambda a, b: len(a) > len(b)))"
   ]
  }
 ],
 "metadata": {
  "kernelspec": {
   "display_name": "Python 3",
   "language": "python",
   "name": "python3"
  },
  "language_info": {
   "codemirror_mode": {
    "name": "ipython",
    "version": 3
   },
   "file_extension": ".py",
   "mimetype": "text/x-python",
   "name": "python",
   "nbconvert_exporter": "python",
   "pygments_lexer": "ipython3",
   "version": "3.9.12"
  }
 },
 "nbformat": 4,
 "nbformat_minor": 2
}
